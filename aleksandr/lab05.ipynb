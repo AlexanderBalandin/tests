{
 "cells": [
  {
   "cell_type": "code",
   "execution_count": 1,
   "metadata": {},
   "outputs": [],
   "source": [
    "import scala.util.Try\n",
    "import scala.math.max\n",
    "import org.apache.spark._\n",
    "import org.apache.log4j._\n",
    "import org.apache.spark.rdd.RDD\n",
    "import org.apache.spark.sql.{DataFrame, Dataset, SparkSession}\n",
    "import org.apache.spark.sql.functions.{concat, lit}\n",
    "import org.apache.spark.sql.functions.{col, udf}\n",
    "import org.apache.spark.sql.functions.expr\n",
    "import org.apache.spark.sql.functions._\n",
    "import org.apache.spark.SparkContext\n",
    "import org.apache.spark.SparkContext._\n",
    "import org.apache.spark.sql.types._\n",
    "import java.net.URLDecoder"
   ]
  },
  {
   "cell_type": "code",
   "execution_count": 2,
   "metadata": {},
   "outputs": [],
   "source": [
    "import org.apache.spark.ml.feature.VectorAssembler\n",
    "import org.apache.spark.ml.linalg.{DenseVector, SparseVector, Vector, Vectors}\n",
    "import org.apache.spark.ml.evaluation.BinaryClassificationEvaluator\n",
    "import org.apache.spark.ml.classification.{RandomForestClassificationModel, RandomForestClassifier}\n",
    "import org.apache.spark.ml.classification.{GBTClassificationModel, GBTClassifier}"
   ]
  },
  {
   "cell_type": "code",
   "execution_count": 3,
   "metadata": {},
   "outputs": [
    {
     "data": {
      "text/plain": [
       "spark = org.apache.spark.sql.SparkSession@1bc1b74b\n"
      ]
     },
     "metadata": {},
     "output_type": "display_data"
    },
    {
     "data": {
      "text/plain": [
       "org.apache.spark.sql.SparkSession@1bc1b74b"
      ]
     },
     "execution_count": 3,
     "metadata": {},
     "output_type": "execute_result"
    }
   ],
   "source": [
    "val spark = SparkSession.builder().appName(\"test_lab05\").config(\"spark.master\", \"yarn\").getOrCreate()"
   ]
  },
  {
   "cell_type": "code",
   "execution_count": 4,
   "metadata": {},
   "outputs": [
    {
     "data": {
      "text/plain": [
       "train = [_c0: string, ID: string ... 115 more fields]\n",
       "test = [_c0: string, ID: string ... 114 more fields]\n"
      ]
     },
     "metadata": {},
     "output_type": "display_data"
    },
    {
     "data": {
      "text/plain": [
       "[_c0: string, ID: string ... 114 more fields]"
      ]
     },
     "execution_count": 4,
     "metadata": {},
     "output_type": "execute_result"
    }
   ],
   "source": [
    "// считываем исходные данные\n",
    "val train = spark.read.option(\"delimiter\", \",\").option(\"header\", \"True\").option(\"encoding\",\"utf-8\").csv(\"/labs/slaba05/lab05_train.csv\")\n",
    "\n",
    "val test = spark.read.option(\"delimiter\", \",\").option(\"header\", \"True\").option(\"encoding\",\"utf-8\").csv(\"/labs/slaba05/lab05_test.csv\")"
   ]
  },
  {
   "cell_type": "code",
   "execution_count": 34,
   "metadata": {},
   "outputs": [
    {
     "name": "stdout",
     "output_type": "stream",
     "text": [
      "-RECORD 0--------------------------------------------\n",
      " _c0                         | 333149                \n",
      " ID                          | 479990                \n",
      " CR_PROD_CNT_IL              | 0                     \n",
      " AMOUNT_RUB_CLO_PRC          | 0.0                   \n",
      " PRC_ACCEPTS_A_EMAIL_LINK    | 0.0                   \n",
      " APP_REGISTR_RGN_CODE        | null                  \n",
      " PRC_ACCEPTS_A_POS           | 0.0                   \n",
      " PRC_ACCEPTS_A_TK            | 0.0                   \n",
      " TURNOVER_DYNAMIC_IL_1M      | 0.0                   \n",
      " CNT_TRAN_AUT_TENDENCY1M     | null                  \n",
      " SUM_TRAN_AUT_TENDENCY1M     | null                  \n",
      " AMOUNT_RUB_SUP_PRC          | 0.0                   \n",
      " PRC_ACCEPTS_A_AMOBILE       | 0.0                   \n",
      " SUM_TRAN_AUT_TENDENCY3M     | null                  \n",
      " CLNT_TRUST_RELATION         | null                  \n",
      " PRC_ACCEPTS_TK              | 0.0                   \n",
      " PRC_ACCEPTS_A_MTP           | 0.0                   \n",
      " REST_DYNAMIC_FDEP_1M        | 0.0                   \n",
      " CNT_TRAN_AUT_TENDENCY3M     | null                  \n",
      " CNT_ACCEPTS_TK              | 0.0                   \n",
      " APP_MARITAL_STATUS          | null                  \n",
      " REST_DYNAMIC_SAVE_3M        | 0.0                   \n",
      " CR_PROD_CNT_VCU             | 0                     \n",
      " REST_AVG_CUR                | 19069.6917166667      \n",
      " CNT_TRAN_MED_TENDENCY1M     | null                  \n",
      " APP_KIND_OF_PROP_HABITATION | null                  \n",
      " CLNT_JOB_POSITION_TYPE      | null                  \n",
      " AMOUNT_RUB_NAS_PRC          | 0.0                   \n",
      " CLNT_JOB_POSITION           | null                  \n",
      " APP_DRIVING_LICENSE         | null                  \n",
      " TRANS_COUNT_SUP_PRC         | 0.0                   \n",
      " APP_EDUCATION               | null                  \n",
      " CNT_TRAN_CLO_TENDENCY1M     | null                  \n",
      " SUM_TRAN_MED_TENDENCY1M     | null                  \n",
      " PRC_ACCEPTS_A_ATM           | 0.0                   \n",
      " PRC_ACCEPTS_MTP             | 0.0                   \n",
      " TRANS_COUNT_NAS_PRC         | 0.0                   \n",
      " APP_TRAVEL_PASS             | null                  \n",
      " CNT_ACCEPTS_MTP             | 0.0                   \n",
      " CR_PROD_CNT_TOVR            | 1                     \n",
      " APP_CAR                     | null                  \n",
      " CR_PROD_CNT_PIL             | 0                     \n",
      " SUM_TRAN_CLO_TENDENCY1M     | null                  \n",
      " APP_POSITION_TYPE           | null                  \n",
      " TURNOVER_CC                 | 0.0                   \n",
      " TRANS_COUNT_ATM_PRC         | 0.981818181818182     \n",
      " AMOUNT_RUB_ATM_PRC          | 0.9264718189135429    \n",
      " TURNOVER_PAYM               | 0.0                   \n",
      " AGE                         | 324                   \n",
      " CNT_TRAN_MED_TENDENCY3M     | null                  \n",
      " CR_PROD_CNT_CC              | 0                     \n",
      " SUM_TRAN_MED_TENDENCY3M     | null                  \n",
      " REST_DYNAMIC_FDEP_3M        | 0.0                   \n",
      " REST_DYNAMIC_IL_1M          | 0.0                   \n",
      " APP_EMP_TYPE                | null                  \n",
      " SUM_TRAN_CLO_TENDENCY3M     | null                  \n",
      " LDEAL_TENOR_MAX             | null                  \n",
      " LDEAL_YQZ_CHRG              | null                  \n",
      " CR_PROD_CNT_CCFP            | 0                     \n",
      " DEAL_YQZ_IR_MAX             | null                  \n",
      " LDEAL_YQZ_COM               | null                  \n",
      " DEAL_YQZ_IR_MIN             | null                  \n",
      " CNT_TRAN_CLO_TENDENCY3M     | null                  \n",
      " REST_DYNAMIC_CUR_1M         | 0.139327197286461     \n",
      " REST_AVG_PAYM               | 0.0                   \n",
      " LDEAL_TENOR_MIN             | null                  \n",
      " LDEAL_AMT_MONTH             | null                  \n",
      " APP_COMP_TYPE               | null                  \n",
      " LDEAL_GRACE_DAYS_PCT_MED    | 0.0                   \n",
      " REST_DYNAMIC_CUR_3M         | 0.24404241658152398   \n",
      " CNT_TRAN_SUP_TENDENCY3M     | null                  \n",
      " TURNOVER_DYNAMIC_CUR_1M     | 0.14429972251526998   \n",
      " REST_DYNAMIC_PAYM_3M        | 0.0                   \n",
      " SUM_TRAN_SUP_TENDENCY3M     | null                  \n",
      " REST_DYNAMIC_IL_3M          | 0.0                   \n",
      " CNT_TRAN_ATM_TENDENCY3M     | 0.351851851851852     \n",
      " CNT_TRAN_ATM_TENDENCY1M     | 0.166666666666667     \n",
      " TURNOVER_DYNAMIC_IL_3M      | 0.0                   \n",
      " SUM_TRAN_ATM_TENDENCY3M     | 0.329320637235633     \n",
      " DEAL_GRACE_DAYS_ACC_S1X1    | 0.0                   \n",
      " AVG_PCT_MONTH_TO_PCLOSE     | null                  \n",
      " DEAL_YWZ_IR_MIN             | 45.0                  \n",
      " SUM_TRAN_SUP_TENDENCY1M     | null                  \n",
      " DEAL_YWZ_IR_MAX             | 45.0                  \n",
      " SUM_TRAN_ATM_TENDENCY1M     | 0.16790105289165602   \n",
      " REST_DYNAMIC_PAYM_1M        | 0.0                   \n",
      " CNT_TRAN_SUP_TENDENCY1M     | null                  \n",
      " DEAL_GRACE_DAYS_ACC_AVG     | 0.0                   \n",
      " TURNOVER_DYNAMIC_CUR_3M     | 0.30374965665416803   \n",
      " PACK                        | 102                   \n",
      " MAX_PCLOSE_DATE             | null                  \n",
      " LDEAL_YQZ_PC                | null                  \n",
      " CLNT_SETUP_TENOR            | 5.48000105784548      \n",
      " DEAL_GRACE_DAYS_ACC_MAX     | 0.0                   \n",
      " TURNOVER_DYNAMIC_PAYM_3M    | 0.0                   \n",
      " LDEAL_DELINQ_PER_MAXYQZ     | null                  \n",
      " TURNOVER_DYNAMIC_PAYM_1M    | 0.0                   \n",
      " CLNT_SALARY_VALUE           | null                  \n",
      " TRANS_AMOUNT_TENDENCY3M     | 0.305106289785464     \n",
      " MED_DEBT_PRC_YQZ            | null                  \n",
      " TRANS_CNT_TENDENCY3M        | 0.34545454545454496   \n",
      " LDEAL_USED_AMT_AVG_YQZ      | null                  \n",
      " REST_DYNAMIC_CC_1M          | 0.0                   \n",
      " LDEAL_USED_AMT_AVG_YWZ      | 1.0                   \n",
      " TURNOVER_DYNAMIC_CC_1M      | 0.0                   \n",
      " AVG_PCT_DEBT_TO_DEAL_AMT    | null                  \n",
      " LDEAL_ACT_DAYS_ACC_PCT_AVG  | 0.0035236081747709704 \n",
      " REST_DYNAMIC_CC_3M          | 0.0                   \n",
      " MED_DEBT_PRC_YWZ            | 0.0                   \n",
      " LDEAL_ACT_DAYS_PCT_TR3      | 0.0                   \n",
      " LDEAL_ACT_DAYS_PCT_AAVG     | 0.0                   \n",
      " LDEAL_DELINQ_PER_MAXYWZ     | 0.0                   \n",
      " TURNOVER_DYNAMIC_CC_3M      | 0.0                   \n",
      " LDEAL_ACT_DAYS_PCT_TR       | 0.0                   \n",
      " LDEAL_ACT_DAYS_PCT_TR4      | 0.0                   \n",
      " LDEAL_ACT_DAYS_PCT_CURR     | 0.0                   \n",
      " TARGET                      | 0                     \n",
      "only showing top 1 row\n",
      "\n"
     ]
    }
   ],
   "source": [
    "// смотрим топ 20 записей\n",
    "train.show(numRows = 1, truncate = 100, vertical=true)"
   ]
  },
  {
   "cell_type": "code",
   "execution_count": 6,
   "metadata": {},
   "outputs": [
    {
     "name": "stdout",
     "output_type": "stream",
     "text": [
      "root\n",
      " |-- _c0: string (nullable = true)\n",
      " |-- ID: string (nullable = true)\n",
      " |-- CR_PROD_CNT_IL: string (nullable = true)\n",
      " |-- AMOUNT_RUB_CLO_PRC: string (nullable = true)\n",
      " |-- PRC_ACCEPTS_A_EMAIL_LINK: string (nullable = true)\n",
      " |-- APP_REGISTR_RGN_CODE: string (nullable = true)\n",
      " |-- PRC_ACCEPTS_A_POS: string (nullable = true)\n",
      " |-- PRC_ACCEPTS_A_TK: string (nullable = true)\n",
      " |-- TURNOVER_DYNAMIC_IL_1M: string (nullable = true)\n",
      " |-- CNT_TRAN_AUT_TENDENCY1M: string (nullable = true)\n",
      " |-- SUM_TRAN_AUT_TENDENCY1M: string (nullable = true)\n",
      " |-- AMOUNT_RUB_SUP_PRC: string (nullable = true)\n",
      " |-- PRC_ACCEPTS_A_AMOBILE: string (nullable = true)\n",
      " |-- SUM_TRAN_AUT_TENDENCY3M: string (nullable = true)\n",
      " |-- CLNT_TRUST_RELATION: string (nullable = true)\n",
      " |-- PRC_ACCEPTS_TK: string (nullable = true)\n",
      " |-- PRC_ACCEPTS_A_MTP: string (nullable = true)\n",
      " |-- REST_DYNAMIC_FDEP_1M: string (nullable = true)\n",
      " |-- CNT_TRAN_AUT_TENDENCY3M: string (nullable = true)\n",
      " |-- CNT_ACCEPTS_TK: string (nullable = true)\n",
      " |-- APP_MARITAL_STATUS: string (nullable = true)\n",
      " |-- REST_DYNAMIC_SAVE_3M: string (nullable = true)\n",
      " |-- CR_PROD_CNT_VCU: string (nullable = true)\n",
      " |-- REST_AVG_CUR: string (nullable = true)\n",
      " |-- CNT_TRAN_MED_TENDENCY1M: string (nullable = true)\n",
      " |-- APP_KIND_OF_PROP_HABITATION: string (nullable = true)\n",
      " |-- CLNT_JOB_POSITION_TYPE: string (nullable = true)\n",
      " |-- AMOUNT_RUB_NAS_PRC: string (nullable = true)\n",
      " |-- CLNT_JOB_POSITION: string (nullable = true)\n",
      " |-- APP_DRIVING_LICENSE: string (nullable = true)\n",
      " |-- TRANS_COUNT_SUP_PRC: string (nullable = true)\n",
      " |-- APP_EDUCATION: string (nullable = true)\n",
      " |-- CNT_TRAN_CLO_TENDENCY1M: string (nullable = true)\n",
      " |-- SUM_TRAN_MED_TENDENCY1M: string (nullable = true)\n",
      " |-- PRC_ACCEPTS_A_ATM: string (nullable = true)\n",
      " |-- PRC_ACCEPTS_MTP: string (nullable = true)\n",
      " |-- TRANS_COUNT_NAS_PRC: string (nullable = true)\n",
      " |-- APP_TRAVEL_PASS: string (nullable = true)\n",
      " |-- CNT_ACCEPTS_MTP: string (nullable = true)\n",
      " |-- CR_PROD_CNT_TOVR: string (nullable = true)\n",
      " |-- APP_CAR: string (nullable = true)\n",
      " |-- CR_PROD_CNT_PIL: string (nullable = true)\n",
      " |-- SUM_TRAN_CLO_TENDENCY1M: string (nullable = true)\n",
      " |-- APP_POSITION_TYPE: string (nullable = true)\n",
      " |-- TURNOVER_CC: string (nullable = true)\n",
      " |-- TRANS_COUNT_ATM_PRC: string (nullable = true)\n",
      " |-- AMOUNT_RUB_ATM_PRC: string (nullable = true)\n",
      " |-- TURNOVER_PAYM: string (nullable = true)\n",
      " |-- AGE: string (nullable = true)\n",
      " |-- CNT_TRAN_MED_TENDENCY3M: string (nullable = true)\n",
      " |-- CR_PROD_CNT_CC: string (nullable = true)\n",
      " |-- SUM_TRAN_MED_TENDENCY3M: string (nullable = true)\n",
      " |-- REST_DYNAMIC_FDEP_3M: string (nullable = true)\n",
      " |-- REST_DYNAMIC_IL_1M: string (nullable = true)\n",
      " |-- APP_EMP_TYPE: string (nullable = true)\n",
      " |-- SUM_TRAN_CLO_TENDENCY3M: string (nullable = true)\n",
      " |-- LDEAL_TENOR_MAX: string (nullable = true)\n",
      " |-- LDEAL_YQZ_CHRG: string (nullable = true)\n",
      " |-- CR_PROD_CNT_CCFP: string (nullable = true)\n",
      " |-- DEAL_YQZ_IR_MAX: string (nullable = true)\n",
      " |-- LDEAL_YQZ_COM: string (nullable = true)\n",
      " |-- DEAL_YQZ_IR_MIN: string (nullable = true)\n",
      " |-- CNT_TRAN_CLO_TENDENCY3M: string (nullable = true)\n",
      " |-- REST_DYNAMIC_CUR_1M: string (nullable = true)\n",
      " |-- REST_AVG_PAYM: string (nullable = true)\n",
      " |-- LDEAL_TENOR_MIN: string (nullable = true)\n",
      " |-- LDEAL_AMT_MONTH: string (nullable = true)\n",
      " |-- APP_COMP_TYPE: string (nullable = true)\n",
      " |-- LDEAL_GRACE_DAYS_PCT_MED: string (nullable = true)\n",
      " |-- REST_DYNAMIC_CUR_3M: string (nullable = true)\n",
      " |-- CNT_TRAN_SUP_TENDENCY3M: string (nullable = true)\n",
      " |-- TURNOVER_DYNAMIC_CUR_1M: string (nullable = true)\n",
      " |-- REST_DYNAMIC_PAYM_3M: string (nullable = true)\n",
      " |-- SUM_TRAN_SUP_TENDENCY3M: string (nullable = true)\n",
      " |-- REST_DYNAMIC_IL_3M: string (nullable = true)\n",
      " |-- CNT_TRAN_ATM_TENDENCY3M: string (nullable = true)\n",
      " |-- CNT_TRAN_ATM_TENDENCY1M: string (nullable = true)\n",
      " |-- TURNOVER_DYNAMIC_IL_3M: string (nullable = true)\n",
      " |-- SUM_TRAN_ATM_TENDENCY3M: string (nullable = true)\n",
      " |-- DEAL_GRACE_DAYS_ACC_S1X1: string (nullable = true)\n",
      " |-- AVG_PCT_MONTH_TO_PCLOSE: string (nullable = true)\n",
      " |-- DEAL_YWZ_IR_MIN: string (nullable = true)\n",
      " |-- SUM_TRAN_SUP_TENDENCY1M: string (nullable = true)\n",
      " |-- DEAL_YWZ_IR_MAX: string (nullable = true)\n",
      " |-- SUM_TRAN_ATM_TENDENCY1M: string (nullable = true)\n",
      " |-- REST_DYNAMIC_PAYM_1M: string (nullable = true)\n",
      " |-- CNT_TRAN_SUP_TENDENCY1M: string (nullable = true)\n",
      " |-- DEAL_GRACE_DAYS_ACC_AVG: string (nullable = true)\n",
      " |-- TURNOVER_DYNAMIC_CUR_3M: string (nullable = true)\n",
      " |-- PACK: string (nullable = true)\n",
      " |-- MAX_PCLOSE_DATE: string (nullable = true)\n",
      " |-- LDEAL_YQZ_PC: string (nullable = true)\n",
      " |-- CLNT_SETUP_TENOR: string (nullable = true)\n",
      " |-- DEAL_GRACE_DAYS_ACC_MAX: string (nullable = true)\n",
      " |-- TURNOVER_DYNAMIC_PAYM_3M: string (nullable = true)\n",
      " |-- LDEAL_DELINQ_PER_MAXYQZ: string (nullable = true)\n",
      " |-- TURNOVER_DYNAMIC_PAYM_1M: string (nullable = true)\n",
      " |-- CLNT_SALARY_VALUE: string (nullable = true)\n",
      " |-- TRANS_AMOUNT_TENDENCY3M: string (nullable = true)\n",
      " |-- MED_DEBT_PRC_YQZ: string (nullable = true)\n",
      " |-- TRANS_CNT_TENDENCY3M: string (nullable = true)\n",
      " |-- LDEAL_USED_AMT_AVG_YQZ: string (nullable = true)\n",
      " |-- REST_DYNAMIC_CC_1M: string (nullable = true)\n",
      " |-- LDEAL_USED_AMT_AVG_YWZ: string (nullable = true)\n",
      " |-- TURNOVER_DYNAMIC_CC_1M: string (nullable = true)\n",
      " |-- AVG_PCT_DEBT_TO_DEAL_AMT: string (nullable = true)\n",
      " |-- LDEAL_ACT_DAYS_ACC_PCT_AVG: string (nullable = true)\n",
      " |-- REST_DYNAMIC_CC_3M: string (nullable = true)\n",
      " |-- MED_DEBT_PRC_YWZ: string (nullable = true)\n",
      " |-- LDEAL_ACT_DAYS_PCT_TR3: string (nullable = true)\n",
      " |-- LDEAL_ACT_DAYS_PCT_AAVG: string (nullable = true)\n",
      " |-- LDEAL_DELINQ_PER_MAXYWZ: string (nullable = true)\n",
      " |-- TURNOVER_DYNAMIC_CC_3M: string (nullable = true)\n",
      " |-- LDEAL_ACT_DAYS_PCT_TR: string (nullable = true)\n",
      " |-- LDEAL_ACT_DAYS_PCT_TR4: string (nullable = true)\n",
      " |-- LDEAL_ACT_DAYS_PCT_CURR: string (nullable = true)\n",
      " |-- TARGET: string (nullable = true)\n",
      "\n"
     ]
    }
   ],
   "source": [
    "// смотрим структуру датасета train\n",
    "train.printSchema()"
   ]
  },
  {
   "cell_type": "code",
   "execution_count": 38,
   "metadata": {},
   "outputs": [
    {
     "data": {
      "text/plain": [
       "Name: Syntax Error.\n",
       "Message: \n",
       "StackTrace: "
      ]
     },
     "execution_count": 38,
     "metadata": {},
     "output_type": "execute_result"
    }
   ],
   "source": [
    "// test.show(numRows = 1, truncate = 100, vertical=true)"
   ]
  },
  {
   "cell_type": "code",
   "execution_count": 37,
   "metadata": {},
   "outputs": [
    {
     "data": {
      "text/plain": [
       "Name: Syntax Error.\n",
       "Message: \n",
       "StackTrace: "
      ]
     },
     "execution_count": 37,
     "metadata": {},
     "output_type": "execute_result"
    }
   ],
   "source": [
    "// test.printSchema()"
   ]
  },
  {
   "cell_type": "code",
   "execution_count": null,
   "metadata": {},
   "outputs": [],
   "source": []
  },
  {
   "cell_type": "code",
   "execution_count": 7,
   "metadata": {},
   "outputs": [
    {
     "data": {
      "text/plain": [
       "df_train = [ID: string, CR_PROD_CNT_IL: string ... 101 more fields]\n",
       "df_test = [ID: string, CR_PROD_CNT_IL: string ... 100 more fields]\n"
      ]
     },
     "metadata": {},
     "output_type": "display_data"
    },
    {
     "data": {
      "text/plain": [
       "[ID: string, CR_PROD_CNT_IL: string ... 100 more fields]"
      ]
     },
     "execution_count": 7,
     "metadata": {},
     "output_type": "execute_result"
    }
   ],
   "source": [
    "// \n",
    "var df_train = train.drop(\"APP_CAR\", \"APP_COMP_TYPE\", \"APP_COMP_TYPE\", \"APP_DRIVING_LICENSE\", \"APP_EMP_TYPE\", \n",
    "                      \"APP_KIND_OF_PROP_HABITATION\", \"APP_MARITAL_STATUS\", \"APP_POSITION_TYPE\", \"APP_TRAVEL_PASS\",\n",
    "                      \"APP_REGISTR_RGN_CODE\", \"APP_TRAVEL_PASS\", \n",
    "                      \"CLNT_JOB_POSITION_TYPE\", \"PACK\", \"_c0\",\n",
    "                     \"CLNT_TRUST_RELATION\", \"CLNT_JOB_POSITION\")\n",
    "var df_test = test.drop(\"APP_CAR\", \"APP_COMP_TYPE\", \"APP_COMP_TYPE\", \"APP_DRIVING_LICENSE\", \"APP_EMP_TYPE\", \n",
    "                      \"APP_KIND_OF_PROP_HABITATION\", \"APP_MARITAL_STATUS\", \"APP_POSITION_TYPE\", \"APP_TRAVEL_PASS\",\n",
    "                      \"APP_REGISTR_RGN_CODE\", \"APP_TRAVEL_PASS\", \n",
    "                      \"CLNT_JOB_POSITION_TYPE\", \"PACK\", \"_c0\",\n",
    "                     \"CLNT_TRUST_RELATION\", \"CLNT_JOB_POSITION\")"
   ]
  },
  {
   "cell_type": "code",
   "execution_count": null,
   "metadata": {},
   "outputs": [],
   "source": []
  },
  {
   "cell_type": "code",
   "execution_count": 9,
   "metadata": {},
   "outputs": [
    {
     "data": {
      "text/plain": [
       "feature_list = Array(TARGET, LDEAL_ACT_DAYS_PCT_CURR, LDEAL_ACT_DAYS_PCT_TR4, LDEAL_ACT_DAYS_PCT_TR, TURNOVER_DYNAMIC_CC_3M, LDEAL_DELINQ_PER_MAXYWZ, LDEAL_ACT_DAYS_PCT_AAVG, LDEAL_ACT_DAYS_PCT_TR3, MED_DEBT_PRC_YWZ, REST_DYNAMIC_CC_3M, LDEAL_ACT_DAYS_ACC_PCT_AVG, AVG_PCT_DEBT_TO_DEAL_AMT, TURNOVER_DYNAMIC_CC_1M, LDEAL_USED_AMT_AVG_YWZ, REST_DYNAMIC_CC_1M, LDEAL_USED_AMT_AVG_YQZ, TRANS_CNT_TENDENCY3M, MED_DEBT_PRC_YQZ, TRANS_AMOUNT_TENDENCY3M, CLNT_SALARY_VALUE, TURNOVER_DYNAMIC_PAYM_1M, LDEAL_DELINQ_PER_MAXYQZ, TURNOVER_DYNAMIC_PAYM_3M, DEAL_GRACE_DAYS_ACC_MAX, CLNT_SETUP_TENOR, LDEAL_YQZ_PC, MAX_PCLOSE_DATE, TURNOVER_DYNAMIC_CUR_3M, DEAL_GRACE_DAYS_ACC_AVG, CNT_TRAN_SUP_TENDENCY1M, REST_DYNAMIC_PAYM_1M, SUM_TRAN_ATM_TENDENCY1M, DEAL_YWZ_IR_MAX, SUM_TRAN_SUP_TENDENCY1M, ...\n"
      ]
     },
     "metadata": {},
     "output_type": "display_data"
    },
    {
     "data": {
      "text/plain": [
       "Array(TARGET, LDEAL_ACT_DAYS_PCT_CURR, LDEAL_ACT_DAYS_PCT_TR4, LDEAL_ACT_DAYS_PCT_TR, TURNOVER_DYNAMIC_CC_3M, LDEAL_DELINQ_PER_MAXYWZ, LDEAL_ACT_DAYS_PCT_AAVG, LDEAL_ACT_DAYS_PCT_TR3, MED_DEBT_PRC_YWZ, REST_DYNAMIC_CC_3M, LDEAL_ACT_DAYS_ACC_PCT_AVG, AVG_PCT_DEBT_TO_DEAL_AMT, TURNOVER_DYNAMIC_CC_1M, LDEAL_USED_AMT_AVG_YWZ, REST_DYNAMIC_CC_1M, LDEAL_USED_AMT_AVG_YQZ, TRANS_CNT_TENDENCY3M, MED_DEBT_PRC_YQZ, TRANS_AMOUNT_TENDENCY3M, CLNT_SALARY_VALUE, TURNOVER_DYNAMIC_PAYM_1M, LDEAL_DELINQ_PER_MAXYQZ, TURNOVER_DYNAMIC_PAYM_3M, DEAL_GRACE_DAYS_ACC_MAX, CLNT_SETUP_TENOR, LDEAL_YQZ_PC, MAX_PCLOSE_DATE, TURNOVER_DYNAMIC_CUR_3M, DEAL_GRACE_DAYS_ACC_AVG, CNT_TRAN_SUP_TENDENCY1M, REST_DYNAMIC_PAYM_1M, SUM_TRAN_ATM_TENDENCY1M, DEAL_YWZ_IR_MAX, SUM_TRAN_SUP_TENDENCY1M, ..."
      ]
     },
     "execution_count": 9,
     "metadata": {},
     "output_type": "execute_result"
    }
   ],
   "source": [
    "var feature_list = Array[String]()\n",
    "for (t <- df_train.columns if (t!=\"ID\"))\n",
    "{ df_train = df_train.withColumn(t, col(t).cast(FloatType))\n",
    "        feature_list +:= t}\n",
    "val b = feature_list.filter(! _.contains(\"TARGET\"))"
   ]
  },
  {
   "cell_type": "code",
   "execution_count": 10,
   "metadata": {},
   "outputs": [],
   "source": [
    "for (t <- df_test.columns if (t!=\"ID\"))\n",
    "{ df_test = df_test.withColumn(t, col(t).cast(FloatType))}"
   ]
  },
  {
   "cell_type": "code",
   "execution_count": null,
   "metadata": {},
   "outputs": [],
   "source": []
  },
  {
   "cell_type": "code",
   "execution_count": 11,
   "metadata": {},
   "outputs": [
    {
     "data": {
      "text/plain": [
       "df_test = [ID: string, CR_PROD_CNT_IL: float ... 100 more fields]\n",
       "df_train = [ID: string, CR_PROD_CNT_IL: float ... 101 more fields]\n"
      ]
     },
     "metadata": {},
     "output_type": "display_data"
    },
    {
     "data": {
      "text/plain": [
       "[ID: string, CR_PROD_CNT_IL: float ... 101 more fields]"
      ]
     },
     "execution_count": 11,
     "metadata": {},
     "output_type": "execute_result"
    }
   ],
   "source": [
    "df_test = df_test.na.fill(value=0.0)\n",
    "df_train = df_train.na.fill(value=0.0)"
   ]
  },
  {
   "cell_type": "code",
   "execution_count": 12,
   "metadata": {},
   "outputs": [
    {
     "data": {
      "text/plain": [
       "assembler = vecAssembler_6c55c7418807\n"
      ]
     },
     "metadata": {},
     "output_type": "display_data"
    },
    {
     "data": {
      "text/plain": [
       "vecAssembler_6c55c7418807"
      ]
     },
     "execution_count": 12,
     "metadata": {},
     "output_type": "execute_result"
    }
   ],
   "source": [
    "val assembler = new VectorAssembler()\n",
    "                    .setInputCols(b)\n",
    "                    .setOutputCol(\"features\")"
   ]
  },
  {
   "cell_type": "code",
   "execution_count": null,
   "metadata": {},
   "outputs": [],
   "source": []
  },
  {
   "cell_type": "code",
   "execution_count": 13,
   "metadata": {},
   "outputs": [
    {
     "data": {
      "text/plain": [
       "df_train = [ID: string, CR_PROD_CNT_IL: float ... 101 more fields]\n"
      ]
     },
     "metadata": {},
     "output_type": "display_data"
    },
    {
     "data": {
      "text/plain": [
       "[ID: string, CR_PROD_CNT_IL: float ... 101 more fields]"
      ]
     },
     "execution_count": 13,
     "metadata": {},
     "output_type": "execute_result"
    }
   ],
   "source": [
    "df_train = df_train.withColumn(\"TARGET\", col(\"TARGET\").cast(IntegerType))"
   ]
  },
  {
   "cell_type": "code",
   "execution_count": 14,
   "metadata": {},
   "outputs": [
    {
     "data": {
      "text/plain": [
       "train_data = [ID: string, CR_PROD_CNT_IL: float ... 102 more fields]\n",
       "test_data = [ID: string, CR_PROD_CNT_IL: float ... 101 more fields]\n"
      ]
     },
     "metadata": {},
     "output_type": "display_data"
    },
    {
     "data": {
      "text/plain": [
       "[ID: string, CR_PROD_CNT_IL: float ... 101 more fields]"
      ]
     },
     "execution_count": 14,
     "metadata": {},
     "output_type": "execute_result"
    }
   ],
   "source": [
    "val train_data=assembler.transform(df_train).repartition(30)\n",
    "val test_data=assembler.transform(df_test).repartition(30)"
   ]
  },
  {
   "cell_type": "code",
   "execution_count": null,
   "metadata": {},
   "outputs": [],
   "source": []
  },
  {
   "cell_type": "code",
   "execution_count": 15,
   "metadata": {},
   "outputs": [
    {
     "data": {
      "text/plain": [
       "evaluator = binEval_f709ed236e70\n"
      ]
     },
     "metadata": {},
     "output_type": "display_data"
    },
    {
     "data": {
      "text/plain": [
       "binEval_f709ed236e70"
      ]
     },
     "execution_count": 15,
     "metadata": {},
     "output_type": "execute_result"
    }
   ],
   "source": [
    "val evaluator = new BinaryClassificationEvaluator()\n",
    "                        .setLabelCol(\"TARGET\")\n",
    "                        .setRawPredictionCol(\"probability\")\n",
    "                        .setMetricName(\"areaUnderROC\")"
   ]
  },
  {
   "cell_type": "code",
   "execution_count": 16,
   "metadata": {},
   "outputs": [
    {
     "data": {
      "text/plain": [
       "gbt = gbtc_8ce1f65ad789\n"
      ]
     },
     "metadata": {},
     "output_type": "display_data"
    },
    {
     "data": {
      "text/plain": [
       "gbtc_8ce1f65ad789"
      ]
     },
     "execution_count": 16,
     "metadata": {},
     "output_type": "execute_result"
    }
   ],
   "source": [
    "val gbt = new GBTClassifier()\n",
    "      .setFeaturesCol(\"features\")\n",
    "      .setLabelCol(\"TARGET\")\n",
    "      .setMaxDepth(4)\n",
    "      .setMaxIter(50)"
   ]
  },
  {
   "cell_type": "code",
   "execution_count": null,
   "metadata": {},
   "outputs": [],
   "source": []
  },
  {
   "cell_type": "code",
   "execution_count": 17,
   "metadata": {},
   "outputs": [
    {
     "data": {
      "text/plain": [
       "model_gbt = GBTClassificationModel (uid=gbtc_8ce1f65ad789) with 50 trees\n"
      ]
     },
     "metadata": {},
     "output_type": "display_data"
    },
    {
     "data": {
      "text/plain": [
       "GBTClassificationModel (uid=gbtc_8ce1f65ad789) with 50 trees"
      ]
     },
     "execution_count": 17,
     "metadata": {},
     "output_type": "execute_result"
    }
   ],
   "source": [
    "//обучаем модель\n",
    "val model_gbt = gbt.fit(train_data)"
   ]
  },
  {
   "cell_type": "code",
   "execution_count": 19,
   "metadata": {},
   "outputs": [
    {
     "data": {
      "text/plain": [
       "predictions_train = [ID: string, CR_PROD_CNT_IL: float ... 105 more fields]\n"
      ]
     },
     "metadata": {},
     "output_type": "display_data"
    },
    {
     "data": {
      "text/plain": [
       "[ID: string, CR_PROD_CNT_IL: float ... 105 more fields]"
      ]
     },
     "execution_count": 19,
     "metadata": {},
     "output_type": "execute_result"
    }
   ],
   "source": [
    "val predictions_train = model_gbt.transform(train_data)"
   ]
  },
  {
   "cell_type": "code",
   "execution_count": 20,
   "metadata": {},
   "outputs": [
    {
     "data": {
      "text/plain": [
       "ROC_AUC = 0.829076328679496\n"
      ]
     },
     "metadata": {},
     "output_type": "display_data"
    },
    {
     "data": {
      "text/plain": [
       "0.829076328679496"
      ]
     },
     "execution_count": 20,
     "metadata": {},
     "output_type": "execute_result"
    }
   ],
   "source": [
    "val ROC_AUC = evaluator.evaluate(predictions_train)"
   ]
  },
  {
   "cell_type": "code",
   "execution_count": null,
   "metadata": {},
   "outputs": [],
   "source": []
  },
  {
   "cell_type": "code",
   "execution_count": 21,
   "metadata": {},
   "outputs": [
    {
     "data": {
      "text/plain": [
       "predictions_test = [ID: string, CR_PROD_CNT_IL: float ... 104 more fields]\n"
      ]
     },
     "metadata": {},
     "output_type": "display_data"
    },
    {
     "data": {
      "text/plain": [
       "[ID: string, CR_PROD_CNT_IL: float ... 104 more fields]"
      ]
     },
     "execution_count": 21,
     "metadata": {},
     "output_type": "execute_result"
    }
   ],
   "source": [
    "val predictions_test = model_gbt.transform(test_data)"
   ]
  },
  {
   "cell_type": "code",
   "execution_count": 22,
   "metadata": {},
   "outputs": [
    {
     "data": {
      "text/plain": [
       "sparse_to_dense = UserDefinedFunction(<function1>,ArrayType(DoubleType,false),Some(List(org.apache.spark.ml.linalg.VectorUDT@3bfc3ba7)))\n"
      ]
     },
     "metadata": {},
     "output_type": "display_data"
    },
    {
     "data": {
      "text/plain": [
       "UserDefinedFunction(<function1>,ArrayType(DoubleType,false),Some(List(org.apache.spark.ml.linalg.VectorUDT@3bfc3ba7)))"
      ]
     },
     "execution_count": 22,
     "metadata": {},
     "output_type": "execute_result"
    }
   ],
   "source": [
    "val sparse_to_dense = udf((v: Vector) =>  v.toArray)"
   ]
  },
  {
   "cell_type": "code",
   "execution_count": 23,
   "metadata": {},
   "outputs": [
    {
     "data": {
      "text/plain": [
       "to_file = [id: string, target: double]\n"
      ]
     },
     "metadata": {},
     "output_type": "display_data"
    },
    {
     "data": {
      "text/plain": [
       "[id: string, target: double]"
      ]
     },
     "execution_count": 23,
     "metadata": {},
     "output_type": "execute_result"
    }
   ],
   "source": [
    "val to_file = predictions_test.select(col(\"ID\").alias(\"id\"), sparse_to_dense(col(\"probability\")).getItem(1).alias(\"target\")).coalesce(1)"
   ]
  },
  {
   "cell_type": "code",
   "execution_count": 24,
   "metadata": {},
   "outputs": [
    {
     "name": "stdout",
     "output_type": "stream",
     "text": [
      "+------+--------------------+\n",
      "|    id|              target|\n",
      "+------+--------------------+\n",
      "|338743|0.024759072325617026|\n",
      "|396274|0.038163679377554494|\n",
      "|317805| 0.02458297763532946|\n",
      "|398424| 0.02590819013345458|\n",
      "|373496|  0.3270877621129269|\n",
      "|209206| 0.24066875334233184|\n",
      "|319688| 0.06209164699009506|\n",
      "|345326|0.026610217650548273|\n",
      "|373023| 0.02671153458371367|\n",
      "|225004| 0.19473992323704659|\n",
      "|192599| 0.10599952959487369|\n",
      "|470522| 0.10196508962487238|\n",
      "|537732| 0.05514734894227491|\n",
      "|444496|  0.0409344841767455|\n",
      "|244935|0.026071574039680634|\n",
      "|485741| 0.23867742595789254|\n",
      "|551227| 0.07690448138110895|\n",
      "|395048| 0.14711423368085386|\n",
      "|255069| 0.04646592087985679|\n",
      "|274320| 0.12335631847361006|\n",
      "+------+--------------------+\n",
      "only showing top 20 rows\n",
      "\n"
     ]
    }
   ],
   "source": [
    "to_file.show()"
   ]
  },
  {
   "cell_type": "code",
   "execution_count": 41,
   "metadata": {},
   "outputs": [],
   "source": []
  },
  {
   "cell_type": "code",
   "execution_count": 44,
   "metadata": {},
   "outputs": [
    {
     "data": {
      "text/plain": [
       "Name: Syntax Error.\n",
       "Message: \n",
       "StackTrace: "
      ]
     },
     "execution_count": 44,
     "metadata": {},
     "output_type": "execute_result"
    }
   ],
   "source": [
    "// сохраняю файл результата\n",
    "// to_file.coalesce(1).write.option(\"header\",\"true\").option(\"sep\",\"\\t\").mode(\"overwrite\").csv(\"lab05.csv\")\n",
    "to_file.write.format(\"com.databricks.spark.csv\").save(\"lab05.csv\")"
   ]
  },
  {
   "cell_type": "code",
   "execution_count": 48,
   "metadata": {},
   "outputs": [
    {
     "data": {
      "text/plain": [
       "/tmp/spark-3322c2d5-2b4e-4973-8e36-ce67a06f838f/userFiles-58b2d8fa-f139-49e7-ab03-447bbdeacdcb"
      ]
     },
     "execution_count": 48,
     "metadata": {},
     "output_type": "execute_result"
    }
   ],
   "source": [
    "// org.apache.spark.SparkFiles.get(to_file)\n",
    "org.apache.spark.SparkFiles.getRootDirectory"
   ]
  },
  {
   "cell_type": "code",
   "execution_count": 43,
   "metadata": {},
   "outputs": [
    {
     "data": {
      "text/plain": [
       "lastException: Throwable = null\n",
       "res77: String = \"\"\n"
      ]
     },
     "metadata": {},
     "output_type": "display_data"
    }
   ],
   "source": [
    "// забираю файл \n",
    "import scala.sys.process._\n",
    "\n",
    "\"\"\"hdfs dfs -get hdfs://spark-master-1.newprolab.com:8020/user/aleksandr.balandin/lab05.csv\"\"\".!!"
   ]
  },
  {
   "cell_type": "code",
   "execution_count": null,
   "metadata": {},
   "outputs": [],
   "source": []
  },
  {
   "cell_type": "code",
   "execution_count": null,
   "metadata": {},
   "outputs": [],
   "source": []
  },
  {
   "cell_type": "code",
   "execution_count": 49,
   "metadata": {},
   "outputs": [],
   "source": [
    "spark.stop()"
   ]
  }
 ],
 "metadata": {
  "kernelspec": {
   "display_name": "Apache Toree - Scala",
   "language": "scala",
   "name": "apache_toree_scala"
  },
  "language_info": {
   "codemirror_mode": "text/x-scala",
   "file_extension": ".scala",
   "mimetype": "text/x-scala",
   "name": "scala",
   "pygments_lexer": "scala",
   "version": "2.11.12"
  }
 },
 "nbformat": 4,
 "nbformat_minor": 2
}
